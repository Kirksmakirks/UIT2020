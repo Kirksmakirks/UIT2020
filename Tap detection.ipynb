{
 "cells": [
  {
   "cell_type": "code",
   "execution_count": 3,
   "metadata": {},
   "outputs": [],
   "source": [
    "import pyaudio\n",
    "import audioop\n",
    "import struct\n",
    "import numpy as np\n",
    "import matplotlib.pyplot as plt\n",
    "from scipy.signal import argrelextrema\n",
    "from sklearn.neighbors import KNeighborsClassifier"
   ]
  },
  {
   "cell_type": "code",
   "execution_count": 26,
   "metadata": {},
   "outputs": [],
   "source": [
    "class TapDetector():\n",
    "    def __init__(this,channels,rate,index,frames,chunk,tapSize):\n",
    "        this.audio = pyaudio.PyAudio()\n",
    "        this.fullFrames = np.full((tapSize,chunk),None,dtype='float64')\n",
    "        this.frames = np.zeros(tapSize)\n",
    "        this.all = []\n",
    "        this.tapSize = tapSize\n",
    "        this.currentFrame = 0\n",
    "        this.chunk = chunk\n",
    "        this.rate = rate\n",
    "        this.cooldown =0\n",
    "        this.trainingSets = []\n",
    "        this.negativeTrainingSet = []\n",
    "        this.clf = None\n",
    "        this.classifier = KNeighborsClassifier(1)\n",
    "        this.stream = this.audio.open(format = pyaudio.paInt16,\n",
    "                                      channels = channels,\n",
    "                                      rate = rate,\n",
    "                                      input = True,\n",
    "                                      input_device_index = index,\n",
    "                                      frames_per_buffer = frames)\n",
    "    \n",
    "    def start(this,seconds):\n",
    "        print(\"Recording Started\")\n",
    "        print(not this.clf == None)\n",
    "        for i in range(0,int(this.rate / this.chunk * seconds)):\n",
    "            if this.record():\n",
    "                if not this.clf == None:\n",
    "                    flat = np.array([np.array(x).flatten() for x in this.fullFrames]).flatten()\n",
    "                    print(np.array(flat).shape)\n",
    "                    prediction = this.clf.predict([flat])\n",
    "                    print(prediction)\n",
    "        print(\"Recording Finnished\")\n",
    "        plt.plot(this.all)\n",
    "        plt.show()\n",
    "    \n",
    "    def record(this):\n",
    "        tapFound = False\n",
    "        data = this.stream.read(this.chunk, exception_on_overflow=False)\n",
    "        decoded = np.fromstring(data.hex(), 'Float32').tolist()\n",
    "        this.all.append(audioop.rms(data, 2))\n",
    "        this.frames[this.currentFrame] = audioop.rms(data, 2)\n",
    "        this.fullFrames[this.currentFrame] = decoded\n",
    "        this.currentFrame = (this.currentFrame+1)%this.tapSize\n",
    "        if(this.cooldown <= 0):\n",
    "            tapFound = this.isTap(9000)\n",
    "            return tapFound\n",
    "        else:\n",
    "            this.cooldown -= 1\n",
    "        return tapFound\n",
    "    \n",
    "    def callibrate(this,buttons,tapsNeeded):\n",
    "        for button in range(0,buttons):\n",
    "            this.trainingSets.append([])\n",
    "            print(\"Callibrating button position {}\".format(button))\n",
    "            for tap in range(1,tapsNeeded+1):\n",
    "                while(not this.record()):\n",
    "                    d = 1\n",
    "                this.trainingSets[button].append(this.fullFrames.copy())\n",
    "                print(\"{}/{} taps registered for button {}\".format(tap,tapsNeeded,button))\n",
    "        for tap in range(1,tapsNeeded+1):\n",
    "            print(\"Tap at a place with no button\")\n",
    "            while(not this.record()):\n",
    "                d = 1\n",
    "            this.negativeTrainingSet.append(this.fullFrames.copy())\n",
    "            print(\"{}/{} false taps registered so far\".format(tap,tapsNeeded))\n",
    "        this.buttonTraining()\n",
    "\n",
    "    def buttonTraining(this):\n",
    "        positiveTrainX = [np.array(x).flatten() for x in this.trainingSets[0]]\n",
    "        positiveTrainY = np.full( len(positiveTrainX), 5)\n",
    "        negativeTrainX = [np.array(x).flatten() for x in this.negativeTrainingSet]\n",
    "        negativeTrainY = np.full( len(negativeTrainX), -1)\n",
    "        trainX = positiveTrainX\n",
    "        trainX.extend(negativeTrainX)\n",
    "        trainY = np.hstack([positiveTrainY,negativeTrainY])\n",
    "        this.clf = this.classifier.fit(trainX,trainY)\n",
    "        print(this.clf.predict(trainX))\n",
    "        \n",
    "    def stop(this):\n",
    "        this.stream.stop_stream()\n",
    "        this.stream.close()\n",
    "    \n",
    "    def plot(this):\n",
    "        plt.plot(np.hstack([this.frames[this.currentFrame:],this.frames[:this.currentFrame]]))\n",
    "        #plt.show()\n",
    "    \n",
    "    def isTap(this,threshold):\n",
    "        soundSlice = np.hstack([this.frames[this.currentFrame:],this.frames[:this.currentFrame]])\n",
    "        diff = np.diff(soundSlice)\n",
    "        maxPeaks = argrelextrema(soundSlice, np.greater)\n",
    "        if len(maxPeaks) > 0:\n",
    "            maxPeaks = maxPeaks[0].tolist()\n",
    "        if len(maxPeaks) == 0:\n",
    "            return False\n",
    "        if soundSlice[maxPeaks[0]] > threshold and diff[maxPeaks[0]]**2 > 5000 and maxPeaks[0] > 1:\n",
    "            for i in range(1,len(maxPeaks)):\n",
    "                if soundSlice[maxPeaks[i]] > (soundSlice[maxPeaks[0]] * 0.5):\n",
    "                    return False\n",
    "            this.cooldown = 50\n",
    "            this.plot()\n",
    "            return True\n",
    "        return False\n",
    "                   \n",
    "    "
   ]
  },
  {
   "cell_type": "code",
   "execution_count": 27,
   "metadata": {},
   "outputs": [
    {
     "name": "stdout",
     "output_type": "stream",
     "text": [
      "Callibrating button position 0\n"
     ]
    },
    {
     "name": "stderr",
     "output_type": "stream",
     "text": [
      "C:\\ProgramData\\Anaconda3\\lib\\site-packages\\ipykernel_launcher.py:40: DeprecationWarning: Numeric-style type codes are deprecated and will result in an error in the future.\n",
      "C:\\ProgramData\\Anaconda3\\lib\\site-packages\\ipykernel_launcher.py:40: DeprecationWarning: The binary mode of fromstring is deprecated, as it behaves surprisingly on unicode inputs. Use frombuffer instead\n"
     ]
    },
    {
     "name": "stdout",
     "output_type": "stream",
     "text": [
      "1/5 taps registered for button 0\n"
     ]
    },
    {
     "name": "stderr",
     "output_type": "stream",
     "text": [
      "C:\\ProgramData\\Anaconda3\\lib\\site-packages\\ipykernel_launcher.py:40: DeprecationWarning: Numeric-style type codes are deprecated and will result in an error in the future.\n",
      "C:\\ProgramData\\Anaconda3\\lib\\site-packages\\ipykernel_launcher.py:40: DeprecationWarning: The binary mode of fromstring is deprecated, as it behaves surprisingly on unicode inputs. Use frombuffer instead\n"
     ]
    },
    {
     "name": "stdout",
     "output_type": "stream",
     "text": [
      "2/5 taps registered for button 0\n"
     ]
    },
    {
     "name": "stderr",
     "output_type": "stream",
     "text": [
      "C:\\ProgramData\\Anaconda3\\lib\\site-packages\\ipykernel_launcher.py:40: DeprecationWarning: Numeric-style type codes are deprecated and will result in an error in the future.\n",
      "C:\\ProgramData\\Anaconda3\\lib\\site-packages\\ipykernel_launcher.py:40: DeprecationWarning: The binary mode of fromstring is deprecated, as it behaves surprisingly on unicode inputs. Use frombuffer instead\n"
     ]
    },
    {
     "name": "stdout",
     "output_type": "stream",
     "text": [
      "3/5 taps registered for button 0\n"
     ]
    },
    {
     "name": "stderr",
     "output_type": "stream",
     "text": [
      "C:\\ProgramData\\Anaconda3\\lib\\site-packages\\ipykernel_launcher.py:40: DeprecationWarning: Numeric-style type codes are deprecated and will result in an error in the future.\n",
      "C:\\ProgramData\\Anaconda3\\lib\\site-packages\\ipykernel_launcher.py:40: DeprecationWarning: The binary mode of fromstring is deprecated, as it behaves surprisingly on unicode inputs. Use frombuffer instead\n"
     ]
    },
    {
     "name": "stdout",
     "output_type": "stream",
     "text": [
      "4/5 taps registered for button 0\n"
     ]
    },
    {
     "name": "stderr",
     "output_type": "stream",
     "text": [
      "C:\\ProgramData\\Anaconda3\\lib\\site-packages\\ipykernel_launcher.py:40: DeprecationWarning: Numeric-style type codes are deprecated and will result in an error in the future.\n",
      "C:\\ProgramData\\Anaconda3\\lib\\site-packages\\ipykernel_launcher.py:40: DeprecationWarning: The binary mode of fromstring is deprecated, as it behaves surprisingly on unicode inputs. Use frombuffer instead\n"
     ]
    },
    {
     "name": "stdout",
     "output_type": "stream",
     "text": [
      "5/5 taps registered for button 0\n",
      "Tap at a place with no button\n"
     ]
    },
    {
     "name": "stderr",
     "output_type": "stream",
     "text": [
      "C:\\ProgramData\\Anaconda3\\lib\\site-packages\\ipykernel_launcher.py:40: DeprecationWarning: Numeric-style type codes are deprecated and will result in an error in the future.\n",
      "C:\\ProgramData\\Anaconda3\\lib\\site-packages\\ipykernel_launcher.py:40: DeprecationWarning: The binary mode of fromstring is deprecated, as it behaves surprisingly on unicode inputs. Use frombuffer instead\n"
     ]
    },
    {
     "name": "stdout",
     "output_type": "stream",
     "text": [
      "1/5 false taps registered so far\n",
      "Tap at a place with no button\n"
     ]
    },
    {
     "name": "stderr",
     "output_type": "stream",
     "text": [
      "C:\\ProgramData\\Anaconda3\\lib\\site-packages\\ipykernel_launcher.py:40: DeprecationWarning: Numeric-style type codes are deprecated and will result in an error in the future.\n",
      "C:\\ProgramData\\Anaconda3\\lib\\site-packages\\ipykernel_launcher.py:40: DeprecationWarning: The binary mode of fromstring is deprecated, as it behaves surprisingly on unicode inputs. Use frombuffer instead\n"
     ]
    },
    {
     "name": "stdout",
     "output_type": "stream",
     "text": [
      "2/5 false taps registered so far\n",
      "Tap at a place with no button\n"
     ]
    },
    {
     "name": "stderr",
     "output_type": "stream",
     "text": [
      "C:\\ProgramData\\Anaconda3\\lib\\site-packages\\ipykernel_launcher.py:40: DeprecationWarning: Numeric-style type codes are deprecated and will result in an error in the future.\n",
      "C:\\ProgramData\\Anaconda3\\lib\\site-packages\\ipykernel_launcher.py:40: DeprecationWarning: The binary mode of fromstring is deprecated, as it behaves surprisingly on unicode inputs. Use frombuffer instead\n"
     ]
    },
    {
     "name": "stdout",
     "output_type": "stream",
     "text": [
      "3/5 false taps registered so far\n",
      "Tap at a place with no button\n"
     ]
    },
    {
     "name": "stderr",
     "output_type": "stream",
     "text": [
      "C:\\ProgramData\\Anaconda3\\lib\\site-packages\\ipykernel_launcher.py:40: DeprecationWarning: Numeric-style type codes are deprecated and will result in an error in the future.\n",
      "C:\\ProgramData\\Anaconda3\\lib\\site-packages\\ipykernel_launcher.py:40: DeprecationWarning: The binary mode of fromstring is deprecated, as it behaves surprisingly on unicode inputs. Use frombuffer instead\n"
     ]
    },
    {
     "name": "stdout",
     "output_type": "stream",
     "text": [
      "4/5 false taps registered so far\n",
      "Tap at a place with no button\n"
     ]
    },
    {
     "name": "stderr",
     "output_type": "stream",
     "text": [
      "C:\\ProgramData\\Anaconda3\\lib\\site-packages\\ipykernel_launcher.py:40: DeprecationWarning: Numeric-style type codes are deprecated and will result in an error in the future.\n",
      "C:\\ProgramData\\Anaconda3\\lib\\site-packages\\ipykernel_launcher.py:40: DeprecationWarning: The binary mode of fromstring is deprecated, as it behaves surprisingly on unicode inputs. Use frombuffer instead\n"
     ]
    },
    {
     "name": "stdout",
     "output_type": "stream",
     "text": [
      "5/5 false taps registered so far\n",
      "[ 5  5  5  5  5 -1 -1 -1 -1 -1]\n",
      "Recording Started\n",
      "True\n"
     ]
    },
    {
     "name": "stderr",
     "output_type": "stream",
     "text": [
      "C:\\ProgramData\\Anaconda3\\lib\\site-packages\\ipykernel_launcher.py:40: DeprecationWarning: Numeric-style type codes are deprecated and will result in an error in the future.\n",
      "C:\\ProgramData\\Anaconda3\\lib\\site-packages\\ipykernel_launcher.py:40: DeprecationWarning: The binary mode of fromstring is deprecated, as it behaves surprisingly on unicode inputs. Use frombuffer instead\n"
     ]
    },
    {
     "name": "stdout",
     "output_type": "stream",
     "text": [
      "(25600,)\n",
      "[-1]\n"
     ]
    },
    {
     "name": "stderr",
     "output_type": "stream",
     "text": [
      "C:\\ProgramData\\Anaconda3\\lib\\site-packages\\ipykernel_launcher.py:40: DeprecationWarning: Numeric-style type codes are deprecated and will result in an error in the future.\n",
      "C:\\ProgramData\\Anaconda3\\lib\\site-packages\\ipykernel_launcher.py:40: DeprecationWarning: The binary mode of fromstring is deprecated, as it behaves surprisingly on unicode inputs. Use frombuffer instead\n"
     ]
    },
    {
     "name": "stdout",
     "output_type": "stream",
     "text": [
      "(25600,)\n",
      "[5]\n"
     ]
    },
    {
     "name": "stderr",
     "output_type": "stream",
     "text": [
      "C:\\ProgramData\\Anaconda3\\lib\\site-packages\\ipykernel_launcher.py:40: DeprecationWarning: Numeric-style type codes are deprecated and will result in an error in the future.\n",
      "C:\\ProgramData\\Anaconda3\\lib\\site-packages\\ipykernel_launcher.py:40: DeprecationWarning: The binary mode of fromstring is deprecated, as it behaves surprisingly on unicode inputs. Use frombuffer instead\n"
     ]
    },
    {
     "name": "stdout",
     "output_type": "stream",
     "text": [
      "(25600,)\n",
      "[5]\n"
     ]
    },
    {
     "name": "stderr",
     "output_type": "stream",
     "text": [
      "C:\\ProgramData\\Anaconda3\\lib\\site-packages\\ipykernel_launcher.py:40: DeprecationWarning: Numeric-style type codes are deprecated and will result in an error in the future.\n",
      "C:\\ProgramData\\Anaconda3\\lib\\site-packages\\ipykernel_launcher.py:40: DeprecationWarning: The binary mode of fromstring is deprecated, as it behaves surprisingly on unicode inputs. Use frombuffer instead\n"
     ]
    },
    {
     "name": "stdout",
     "output_type": "stream",
     "text": [
      "(25600,)\n",
      "[5]\n"
     ]
    },
    {
     "name": "stderr",
     "output_type": "stream",
     "text": [
      "C:\\ProgramData\\Anaconda3\\lib\\site-packages\\ipykernel_launcher.py:40: DeprecationWarning: Numeric-style type codes are deprecated and will result in an error in the future.\n",
      "C:\\ProgramData\\Anaconda3\\lib\\site-packages\\ipykernel_launcher.py:40: DeprecationWarning: The binary mode of fromstring is deprecated, as it behaves surprisingly on unicode inputs. Use frombuffer instead\n"
     ]
    },
    {
     "name": "stdout",
     "output_type": "stream",
     "text": [
      "(25600,)\n",
      "[-1]\n"
     ]
    },
    {
     "name": "stderr",
     "output_type": "stream",
     "text": [
      "C:\\ProgramData\\Anaconda3\\lib\\site-packages\\ipykernel_launcher.py:40: DeprecationWarning: Numeric-style type codes are deprecated and will result in an error in the future.\n",
      "C:\\ProgramData\\Anaconda3\\lib\\site-packages\\ipykernel_launcher.py:40: DeprecationWarning: The binary mode of fromstring is deprecated, as it behaves surprisingly on unicode inputs. Use frombuffer instead\n"
     ]
    },
    {
     "name": "stdout",
     "output_type": "stream",
     "text": [
      "(25600,)\n",
      "[-1]\n"
     ]
    },
    {
     "name": "stderr",
     "output_type": "stream",
     "text": [
      "C:\\ProgramData\\Anaconda3\\lib\\site-packages\\ipykernel_launcher.py:40: DeprecationWarning: Numeric-style type codes are deprecated and will result in an error in the future.\n",
      "C:\\ProgramData\\Anaconda3\\lib\\site-packages\\ipykernel_launcher.py:40: DeprecationWarning: The binary mode of fromstring is deprecated, as it behaves surprisingly on unicode inputs. Use frombuffer instead\n"
     ]
    },
    {
     "name": "stdout",
     "output_type": "stream",
     "text": [
      "(25600,)\n",
      "[5]\n"
     ]
    },
    {
     "name": "stderr",
     "output_type": "stream",
     "text": [
      "C:\\ProgramData\\Anaconda3\\lib\\site-packages\\ipykernel_launcher.py:40: DeprecationWarning: Numeric-style type codes are deprecated and will result in an error in the future.\n",
      "C:\\ProgramData\\Anaconda3\\lib\\site-packages\\ipykernel_launcher.py:40: DeprecationWarning: The binary mode of fromstring is deprecated, as it behaves surprisingly on unicode inputs. Use frombuffer instead\n"
     ]
    },
    {
     "name": "stdout",
     "output_type": "stream",
     "text": [
      "(25600,)\n",
      "[-1]\n"
     ]
    },
    {
     "name": "stderr",
     "output_type": "stream",
     "text": [
      "C:\\ProgramData\\Anaconda3\\lib\\site-packages\\ipykernel_launcher.py:40: DeprecationWarning: Numeric-style type codes are deprecated and will result in an error in the future.\n",
      "C:\\ProgramData\\Anaconda3\\lib\\site-packages\\ipykernel_launcher.py:40: DeprecationWarning: The binary mode of fromstring is deprecated, as it behaves surprisingly on unicode inputs. Use frombuffer instead\n"
     ]
    },
    {
     "name": "stdout",
     "output_type": "stream",
     "text": [
      "(25600,)\n",
      "[-1]\n"
     ]
    },
    {
     "name": "stderr",
     "output_type": "stream",
     "text": [
      "C:\\ProgramData\\Anaconda3\\lib\\site-packages\\ipykernel_launcher.py:40: DeprecationWarning: Numeric-style type codes are deprecated and will result in an error in the future.\n",
      "C:\\ProgramData\\Anaconda3\\lib\\site-packages\\ipykernel_launcher.py:40: DeprecationWarning: The binary mode of fromstring is deprecated, as it behaves surprisingly on unicode inputs. Use frombuffer instead\n"
     ]
    },
    {
     "name": "stdout",
     "output_type": "stream",
     "text": [
      "(25600,)\n",
      "[-1]\n"
     ]
    },
    {
     "name": "stderr",
     "output_type": "stream",
     "text": [
      "C:\\ProgramData\\Anaconda3\\lib\\site-packages\\ipykernel_launcher.py:40: DeprecationWarning: Numeric-style type codes are deprecated and will result in an error in the future.\n",
      "C:\\ProgramData\\Anaconda3\\lib\\site-packages\\ipykernel_launcher.py:40: DeprecationWarning: The binary mode of fromstring is deprecated, as it behaves surprisingly on unicode inputs. Use frombuffer instead\n"
     ]
    },
    {
     "name": "stdout",
     "output_type": "stream",
     "text": [
      "(25600,)\n",
      "[-1]\n"
     ]
    },
    {
     "name": "stderr",
     "output_type": "stream",
     "text": [
      "C:\\ProgramData\\Anaconda3\\lib\\site-packages\\ipykernel_launcher.py:40: DeprecationWarning: Numeric-style type codes are deprecated and will result in an error in the future.\n",
      "C:\\ProgramData\\Anaconda3\\lib\\site-packages\\ipykernel_launcher.py:40: DeprecationWarning: The binary mode of fromstring is deprecated, as it behaves surprisingly on unicode inputs. Use frombuffer instead\n"
     ]
    },
    {
     "name": "stdout",
     "output_type": "stream",
     "text": [
      "(25600,)\n",
      "[-1]\n"
     ]
    },
    {
     "name": "stderr",
     "output_type": "stream",
     "text": [
      "C:\\ProgramData\\Anaconda3\\lib\\site-packages\\ipykernel_launcher.py:40: DeprecationWarning: Numeric-style type codes are deprecated and will result in an error in the future.\n",
      "C:\\ProgramData\\Anaconda3\\lib\\site-packages\\ipykernel_launcher.py:40: DeprecationWarning: The binary mode of fromstring is deprecated, as it behaves surprisingly on unicode inputs. Use frombuffer instead\n"
     ]
    },
    {
     "name": "stdout",
     "output_type": "stream",
     "text": [
      "Recording Finnished\n"
     ]
    },
    {
     "data": {
      "image/png": "[encoded data removed]",
      "text/plain": [
       "<Figure size 432x288 with 1 Axes>"
      ]
     },
     "metadata": {
      "needs_background": "light"
     },
     "output_type": "display_data"
    },
    {
     "data": {
      "image/png": "[encoded data removed]",
      "text/plain": [
       "<Figure size 432x288 with 1 Axes>"
      ]
     },
     "metadata": {
      "needs_background": "light"
     },
     "output_type": "display_data"
    }
   ],
   "source": [
    "channels =1\n",
    "rate = 100000#44100\n",
    "index = 0\n",
    "frames = 5\n",
    "chunk = 1024\n",
    "tapSize = 25\n",
    "detector = TapDetector(channels,rate,index,frames,chunk,tapSize)\n",
    "detector.callibrate(1,5)\n",
    "detector.start(120)\n",
    "detector.plot()\n",
    "detector.stop()"
   ]
  },
  {
   "cell_type": "code",
   "execution_count": null,
   "metadata": {},
   "outputs": [],
   "source": [
    "        \n",
    "    def findPeaks(this,soundSlice,threshold):\n",
    "        diff = np.diff(soundSlice)\n",
    "        startPeak,startId = 0,0\n",
    "        lowPeak,lowId = 0,0\n",
    "        afterPeak, afterId = 0,0\n",
    "        index = 0\n",
    "        for db in soundSLice:\n",
    "            index += 1\n",
    "            if(lowId = 0 and db > 0 and db > startPeak and db >= threshold):\n",
    "                startPeak = db\n",
    "                startId = index\n",
    "            elif(afterId = 0 and db < 0 and db < lowPeak):\n",
    "                lowPeak = db,\n",
    "                lowId = index\n",
    "            elif(index > lowId and db > 0 and db > afterPeak):\n",
    "                afterPeak = db\n",
    "                afterId = index\n",
    "            elif(after)"
   ]
  }
 ],
 "metadata": {
  "kernelspec": {
   "display_name": "Python 3",
   "language": "python",
   "name": "python3"
  },
  "language_info": {
   "codemirror_mode": {
    "name": "ipython",
    "version": 3
   },
   "file_extension": ".py",
   "mimetype": "text/x-python",
   "name": "python",
   "nbconvert_exporter": "python",
   "pygments_lexer": "ipython3",
   "version": "3.7.6"
  }
 },
 "nbformat": 4,
 "nbformat_minor": 4
}
